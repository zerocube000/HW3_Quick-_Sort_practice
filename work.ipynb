{
  "nbformat": 4,
  "nbformat_minor": 0,
  "metadata": {
    "colab": {
      "provenance": []
    },
    "kernelspec": {
      "name": "python3",
      "display_name": "Python 3"
    },
    "language_info": {
      "name": "python"
    }
  },
  "cells": [
    {
      "cell_type": "code",
      "execution_count": 31,
      "metadata": {
        "colab": {
          "base_uri": "https://localhost:8080/"
        },
        "id": "JR94YhSuMdEZ",
        "outputId": "a4838cbf-9cca-4adb-a1e3-d126bcf60742"
      },
      "outputs": [
        {
          "output_type": "stream",
          "name": "stdout",
          "text": [
            "原先陣列: [33, 67, 8, 13, 54, 119, 3, 84, 25, 41] \n",
            "\n",
            "以 33 為基準點排列陣列排列結果: [3, 25, 8, 13, 33, 119, 54, 84, 67, 41]\n",
            "以 3 為基準點排列陣列排列結果: [3, 25, 8, 13, 33, 119, 54, 84, 67, 41]\n",
            "以 25 為基準點排列陣列排列結果: [3, 13, 8, 25, 33, 119, 54, 84, 67, 41]\n",
            "以 13 為基準點排列陣列排列結果: [3, 8, 13, 25, 33, 119, 54, 84, 67, 41]\n",
            "以 119 為基準點排列陣列排列結果: [3, 8, 13, 25, 33, 41, 54, 84, 67, 119]\n",
            "以 41 為基準點排列陣列排列結果: [3, 8, 13, 25, 33, 41, 54, 84, 67, 119]\n",
            "以 54 為基準點排列陣列排列結果: [3, 8, 13, 25, 33, 41, 54, 84, 67, 119]\n",
            "以 84 為基準點排列陣列排列結果: [3, 8, 13, 25, 33, 41, 54, 67, 84, 119]\n",
            "\n",
            "最終陣列: [3, 8, 13, 25, 33, 41, 54, 67, 84, 119]\n"
          ]
        }
      ],
      "source": [
        "def Quick_Sort(array, start, end):\n",
        "    if start >= end:\n",
        "        return\n",
        "    pivot = array[start]\n",
        "    left = start\n",
        "    right = end\n",
        "    while left < right:\n",
        "        while left < right and array[right] >= pivot:\n",
        "            right -= 1\n",
        "        while left < right and array[left] <= pivot:\n",
        "            left += 1\n",
        "        if left < right:\n",
        "            array[left], array[right] = array[right], array[left]\n",
        "    array[start], array[right] = array[right], array[start]\n",
        "    print(\"以\", pivot, \"為基準點排列陣列排列結果:\", array)\n",
        "    Quick_Sort(array, start, right - 1)\n",
        "    Quick_Sort(array, right + 1, end)\n",
        "\n",
        "\n",
        "arr = [33, 67, 8, 13, 54, 119, 3, 84, 25, 41]\n",
        "print(\"原先陣列:\", arr, \"\\n\")\n",
        "Quick_Sort(arr, 0, len(arr) - 1)\n",
        "print(\"\\n最終陣列:\", arr)\n"
      ]
    }
  ]
}